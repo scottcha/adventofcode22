{
 "cells": [
  {
   "cell_type": "code",
   "execution_count": null,
   "metadata": {},
   "outputs": [],
   "source": [
    "#find most calories from any single elf"
   ]
  },
  {
   "cell_type": "code",
   "execution_count": 47,
   "metadata": {},
   "outputs": [],
   "source": [
    "elfCalories = [0]\n",
    "open(\"input.txt\") do f\n",
    "    elf = 1\n",
    "    \n",
    "    #elfCalories = zeros(0)\n",
    "    s = \"\"\n",
    "    line = 0\n",
    "    while ! eof(f)\n",
    "        s = readline(f)        \n",
    "        if(s == \"\")            \n",
    "            elf += 1            \n",
    "            append!(elfCalories, 0)\n",
    "        else            \n",
    "            elfCalories[elf] += parse(Int32, s)\n",
    "        end\n",
    "        line += 1\n",
    "    end\n",
    "end"
   ]
  },
  {
   "cell_type": "code",
   "execution_count": 58,
   "metadata": {},
   "outputs": [
    {
     "data": {
      "text/plain": [
       "find_most_calories (generic function with 1 method)"
      ]
     },
     "execution_count": 58,
     "metadata": {},
     "output_type": "execute_result"
    }
   ],
   "source": [
    "function find_most_calories(elves)\n",
    "    currentMax = (1, elves[1])\n",
    "    for i in 1:length(elves)\n",
    "        if elves[i] > currentMax[2]\n",
    "            currentMax = (i, elves[i])\n",
    "        end\n",
    "    end\n",
    "    return currentMax\n",
    "end"
   ]
  },
  {
   "cell_type": "code",
   "execution_count": 60,
   "metadata": {},
   "outputs": [
    {
     "data": {
      "text/plain": [
       "(236, 72240)"
      ]
     },
     "execution_count": 60,
     "metadata": {},
     "output_type": "execute_result"
    }
   ],
   "source": [
    "answer = find_most_calories(elfCalories)"
   ]
  },
  {
   "cell_type": "code",
   "execution_count": 62,
   "metadata": {},
   "outputs": [
    {
     "name": "stdout",
     "output_type": "stream",
     "text": [
      "Day1 part one answer: 72240\n"
     ]
    }
   ],
   "source": [
    "println(\"Day1 part one answer: \", answer[2])"
   ]
  },
  {
   "cell_type": "code",
   "execution_count": null,
   "metadata": {},
   "outputs": [],
   "source": [
    "#find most calories for top 3 elves"
   ]
  },
  {
   "cell_type": "code",
   "execution_count": 70,
   "metadata": {},
   "outputs": [
    {
     "data": {
      "text/plain": [
       "find_most_calories (generic function with 2 methods)"
      ]
     },
     "execution_count": 70,
     "metadata": {},
     "output_type": "execute_result"
    }
   ],
   "source": [
    "function find_most_calories(elves, n = 3)\n",
    "    return sum(sort(elves, rev=true)[1:n])\n",
    "end"
   ]
  },
  {
   "cell_type": "code",
   "execution_count": 71,
   "metadata": {},
   "outputs": [
    {
     "data": {
      "text/plain": [
       "210957"
      ]
     },
     "execution_count": 71,
     "metadata": {},
     "output_type": "execute_result"
    }
   ],
   "source": [
    "answer2 = find_most_calories(elfCalories)"
   ]
  },
  {
   "cell_type": "code",
   "execution_count": 72,
   "metadata": {},
   "outputs": [
    {
     "name": "stdout",
     "output_type": "stream",
     "text": [
      "Day1 part two answer: 210957\n"
     ]
    }
   ],
   "source": [
    "println(\"Day1 part two answer: \", answer2)"
   ]
  },
  {
   "cell_type": "code",
   "execution_count": null,
   "metadata": {},
   "outputs": [],
   "source": []
  }
 ],
 "metadata": {
  "kernelspec": {
   "display_name": "Julia 1.8.3",
   "language": "julia",
   "name": "julia-1.8"
  },
  "language_info": {
   "file_extension": ".jl",
   "mimetype": "application/julia",
   "name": "julia",
   "version": "1.8.3"
  }
 },
 "nbformat": 4,
 "nbformat_minor": 4
}
